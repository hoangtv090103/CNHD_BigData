{
 "cells": [
  {
   "cell_type": "code",
   "execution_count": 7,
   "outputs": [],
   "source": [
    "from pyspark.sql import SparkSession\n",
    "from pyspark.sql.functions import *\n",
    "\n",
    "spark = SparkSession.builder.appName('BigData').getOrCreate()"
   ],
   "metadata": {
    "collapsed": false,
    "ExecuteTime": {
     "end_time": "2023-11-11T03:54:25.553589Z",
     "start_time": "2023-11-11T03:54:25.501610Z"
    }
   },
   "id": "3d076f032701c270"
  },
  {
   "cell_type": "markdown",
   "source": [],
   "metadata": {
    "collapsed": false
   },
   "id": "7ea8d83f1f4983b8"
  },
  {
   "cell_type": "code",
   "execution_count": 8,
   "outputs": [
    {
     "name": "stdout",
     "output_type": "stream",
     "text": [
      "+---------------+-----------+----------------+---------------+--------------------+--------+-----------------+-------------------------+-----------+--------------------+-----------------+-----------------+\n",
      "|Item_Identifier|Item_Weight|Item_Fat_Content|Item_Visibility|           Item_Type|Item_MRP|Outlet_Identifier|Outlet_Establishment_Year|Outlet_Size|Outlet_Location_Type|      Outlet_Type|Item_Outlet_Sales|\n",
      "+---------------+-----------+----------------+---------------+--------------------+--------+-----------------+-------------------------+-----------+--------------------+-----------------+-----------------+\n",
      "|          FDA15|        9.3|         Low Fat|    0.016047301|               Dairy|249.8092|           OUT049|                     1999|     Medium|              Tier 1|Supermarket Type1|         3735.138|\n",
      "|          DRC01|       5.92|         Regular|    0.019278216|         Soft Drinks| 48.2692|           OUT018|                     2009|     Medium|              Tier 3|Supermarket Type2|         443.4228|\n",
      "|          FDN15|       17.5|         Low Fat|    0.016760075|                Meat| 141.618|           OUT049|                     1999|     Medium|              Tier 1|Supermarket Type1|          2097.27|\n",
      "|          FDX07|       19.2|         Regular|            0.0|Fruits and Vegeta...| 182.095|           OUT010|                     1998|       NULL|              Tier 3|    Grocery Store|           732.38|\n",
      "|          NCD19|       8.93|         Low Fat|            0.0|           Household| 53.8614|           OUT013|                     1987|       High|              Tier 3|Supermarket Type1|         994.7052|\n",
      "|          FDP36|     10.395|         Regular|            0.0|        Baking Goods| 51.4008|           OUT018|                     2009|     Medium|              Tier 3|Supermarket Type2|         556.6088|\n",
      "|          FDO10|      13.65|         Regular|    0.012741089|         Snack Foods| 57.6588|           OUT013|                     1987|       High|              Tier 3|Supermarket Type1|         343.5528|\n",
      "|          FDP10|       NULL|         Low Fat|    0.127469857|         Snack Foods|107.7622|           OUT027|                     1985|     Medium|              Tier 3|Supermarket Type3|        4022.7636|\n",
      "|          FDH17|       16.2|         Regular|    0.016687114|        Frozen Foods| 96.9726|           OUT045|                     2002|       NULL|              Tier 2|Supermarket Type1|        1076.5986|\n",
      "|          FDU28|       19.2|         Regular|     0.09444959|        Frozen Foods|187.8214|           OUT017|                     2007|       NULL|              Tier 2|Supermarket Type1|         4710.535|\n",
      "|          FDY07|       11.8|         Low Fat|            0.0|Fruits and Vegeta...| 45.5402|           OUT049|                     1999|     Medium|              Tier 1|Supermarket Type1|        1516.0266|\n",
      "|          FDA03|       18.5|         Regular|    0.045463773|               Dairy|144.1102|           OUT046|                     1997|      Small|              Tier 1|Supermarket Type1|         2187.153|\n",
      "|          FDX32|       15.1|         Regular|      0.1000135|Fruits and Vegeta...|145.4786|           OUT049|                     1999|     Medium|              Tier 1|Supermarket Type1|        1589.2646|\n",
      "|          FDS46|       17.6|         Regular|    0.047257328|         Snack Foods|119.6782|           OUT046|                     1997|      Small|              Tier 1|Supermarket Type1|        2145.2076|\n",
      "|          FDF32|      16.35|         Low Fat|      0.0680243|Fruits and Vegeta...|196.4426|           OUT013|                     1987|       High|              Tier 3|Supermarket Type1|         1977.426|\n",
      "|          FDP49|        9.0|         Regular|    0.069088961|           Breakfast| 56.3614|           OUT046|                     1997|      Small|              Tier 1|Supermarket Type1|        1547.3192|\n",
      "|          NCB42|       11.8|         Low Fat|    0.008596051|  Health and Hygiene|115.3492|           OUT018|                     2009|     Medium|              Tier 3|Supermarket Type2|        1621.8888|\n",
      "|          FDP49|        9.0|         Regular|    0.069196376|           Breakfast| 54.3614|           OUT049|                     1999|     Medium|              Tier 1|Supermarket Type1|         718.3982|\n",
      "|          DRI11|       NULL|         Low Fat|    0.034237682|         Hard Drinks|113.2834|           OUT027|                     1985|     Medium|              Tier 3|Supermarket Type3|         2303.668|\n",
      "|          FDU02|      13.35|         Low Fat|     0.10249212|               Dairy|230.5352|           OUT035|                     2004|      Small|              Tier 2|Supermarket Type1|        2748.4224|\n",
      "+---------------+-----------+----------------+---------------+--------------------+--------+-----------------+-------------------------+-----------+--------------------+-----------------+-----------------+\n"
     ]
    }
   ],
   "source": [
    "# Đọc dữ liệu từ file csv\n",
    "train_df = spark.read.csv('Train.csv', header=True, inferSchema=True)\n",
    "test_df = spark.read.csv('Test.csv', header=True, inferSchema=True)\n",
    "\n",
    "train_df.show()\n"
   ],
   "metadata": {
    "collapsed": false,
    "ExecuteTime": {
     "end_time": "2023-11-11T03:54:25.832868Z",
     "start_time": "2023-11-11T03:54:25.511337Z"
    }
   },
   "id": "213e83d381396dc8"
  },
  {
   "cell_type": "code",
   "execution_count": 9,
   "outputs": [
    {
     "name": "stdout",
     "output_type": "stream",
     "text": [
      "root\n",
      " |-- Item_Identifier: string (nullable = true)\n",
      " |-- Item_Weight: double (nullable = true)\n",
      " |-- Item_Fat_Content: string (nullable = true)\n",
      " |-- Item_Visibility: double (nullable = true)\n",
      " |-- Item_Type: string (nullable = true)\n",
      " |-- Item_MRP: double (nullable = true)\n",
      " |-- Outlet_Identifier: string (nullable = true)\n",
      " |-- Outlet_Establishment_Year: integer (nullable = true)\n",
      " |-- Outlet_Size: string (nullable = true)\n",
      " |-- Outlet_Location_Type: string (nullable = true)\n",
      " |-- Outlet_Type: string (nullable = true)\n",
      " |-- Item_Outlet_Sales: double (nullable = true)\n"
     ]
    }
   ],
   "source": [
    "# Kiểm tra cấu trúc của dữ liệu\n",
    "train_df.printSchema()"
   ],
   "metadata": {
    "collapsed": false,
    "ExecuteTime": {
     "end_time": "2023-11-11T03:54:25.833242Z",
     "start_time": "2023-11-11T03:54:25.827473Z"
    }
   },
   "id": "dbb3def1846176a"
  },
  {
   "cell_type": "code",
   "execution_count": 10,
   "outputs": [
    {
     "name": "stdout",
     "output_type": "stream",
     "text": [
      "                           count\n",
      "Item_Identifier                0\n",
      "Item_Weight                 1463\n",
      "Item_Fat_Content               0\n",
      "Item_Visibility                0\n",
      "Item_Type                      0\n",
      "Item_MRP                       0\n",
      "Outlet_Identifier              0\n",
      "Outlet_Establishment_Year      0\n",
      "Outlet_Size                 2410\n",
      "Outlet_Location_Type           0\n",
      "Outlet_Type                    0\n",
      "Item_Outlet_Sales              0\n"
     ]
    }
   ],
   "source": [
    "# Liệt kế giá trị null của từng đặc trưng\n",
    "missing_value = train_df.select(\n",
    "    [count(when(isnan(c) | col(c).isNull(), c)).alias(c) for c in train_df.columns]).toPandas().T\n",
    "missing_value = missing_value.rename(columns={0: 'count'})\n",
    "print(missing_value)"
   ],
   "metadata": {
    "collapsed": false,
    "ExecuteTime": {
     "end_time": "2023-11-11T03:54:27.666495Z",
     "start_time": "2023-11-11T03:54:25.830006Z"
    }
   },
   "id": "e85ea5006f0e6eb6"
  },
  {
   "cell_type": "markdown",
   "source": [],
   "metadata": {
    "collapsed": false
   },
   "id": "ba2c992cf5f2f89b"
  },
  {
   "cell_type": "code",
   "execution_count": 11,
   "outputs": [
    {
     "name": "stdout",
     "output_type": "stream",
     "text": [
      "0 0\n"
     ]
    }
   ],
   "source": [
    "# Tính giá trị xuất hiện nhiều nhất trong tập dữ liệu\n",
    "mode_train = train_df.groupBy('Outlet_Size').count().orderBy('count', ascending=False).first()[0]\n",
    "\n",
    "# Thay thế giá trị null bằng giá trị xuất hiện nhiều nhất cho tập train\n",
    "train_df = train_df.fillna({'Outlet_Size': mode_train})\n",
    "\n",
    "# Kiểm tra lại giá trị null\n",
    "mode_test = test_df.groupBy('Outlet_Size').count().orderBy('count', ascending=False).first()[0]\n",
    "\n",
    "# Thay thế giá trị null bằng giá trị xuất hiện nhiều nhất cho tập test \n",
    "test_df = test_df.fillna({'Outlet_Size': mode_test})\n",
    "\n",
    "# Kiểm tra số lượng giá trị null còn lại của 'Outlet_Size'\n",
    "missing_train = train_df.filter(col('Outlet_Size').isNull()).count()\n",
    "missing_test = test_df.filter(col('Outlet_Size').isNull()).count()\n",
    "\n",
    "print(missing_train, missing_test)"
   ],
   "metadata": {
    "collapsed": false,
    "ExecuteTime": {
     "end_time": "2023-11-11T03:54:28.106200Z",
     "start_time": "2023-11-11T03:54:27.662317Z"
    }
   },
   "id": "612184b77bbf10a1"
  },
  {
   "cell_type": "code",
   "execution_count": 12,
   "outputs": [
    {
     "name": "stdout",
     "output_type": "stream",
     "text": [
      "0 0\n"
     ]
    }
   ],
   "source": [
    "from pyspark.sql.functions import mean\n",
    "\n",
    "# Tính giá trị trung bình của 'Item_Weight'\n",
    "mean_train = train_df.select(mean(col('Item_Weight'))).collect()[0][0]\n",
    "\n",
    "mean_test = test_df.select(mean(col('Item_Weight'))).collect()[0][0]\n",
    "\n",
    "\n",
    "# Thay thế giá trị null bằng giá trị trung bình\n",
    "train_df = train_df.fillna({'Item_Weight': mean_train})\n",
    "\n",
    "test_df = test_df.fillna({'Item_Weight': mean_test})\n",
    "\n",
    "# Kiểm tra số lượng giá trị null còn lại của 'Item_Weight'\n",
    "missing_train = train_df.filter(col('Item_Weight').isNull()).count()\n",
    "missing_test = test_df.filter(col('Item_Weight').isNull()).count()\n",
    "\n",
    "print(missing_train, missing_test)"
   ],
   "metadata": {
    "collapsed": false,
    "ExecuteTime": {
     "end_time": "2023-11-11T03:54:28.338737Z",
     "start_time": "2023-11-11T03:54:28.104448Z"
    }
   },
   "id": "6df2695b6f8e3c55"
  },
  {
   "cell_type": "code",
   "execution_count": 13,
   "outputs": [
    {
     "name": "stdout",
     "output_type": "stream",
     "text": [
      "['Item_Weight', 'Item_Visibility', 'Item_MRP', 'Outlet_Establishment_Year', 'Item_Outlet_Sales']\n",
      "['Item_Identifier', 'Item_Fat_Content', 'Item_Type', 'Outlet_Identifier', 'Outlet_Size', 'Outlet_Location_Type', 'Outlet_Type']\n",
      "+----------------+-----+\n",
      "|Item_Fat_Content|count|\n",
      "+----------------+-----+\n",
      "|         low fat|  112|\n",
      "|         Low Fat| 5089|\n",
      "|              LF|  316|\n",
      "|         Regular| 2889|\n",
      "|             reg|  117|\n",
      "+----------------+-----+\n",
      "+--------------------+-----+\n",
      "|           Item_Type|count|\n",
      "+--------------------+-----+\n",
      "|       Starchy Foods|  148|\n",
      "|        Baking Goods|  648|\n",
      "|              Breads|  251|\n",
      "|Fruits and Vegeta...| 1232|\n",
      "|                Meat|  425|\n",
      "|         Hard Drinks|  214|\n",
      "|         Soft Drinks|  445|\n",
      "|           Household|  910|\n",
      "|           Breakfast|  110|\n",
      "|               Dairy|  682|\n",
      "|         Snack Foods| 1200|\n",
      "|              Others|  169|\n",
      "|             Seafood|   64|\n",
      "|              Canned|  649|\n",
      "|        Frozen Foods|  856|\n",
      "|  Health and Hygiene|  520|\n",
      "+--------------------+-----+\n",
      "+-----------------+-----+\n",
      "|Outlet_Identifier|count|\n",
      "+-----------------+-----+\n",
      "|           OUT027|  935|\n",
      "|           OUT046|  930|\n",
      "|           OUT013|  932|\n",
      "|           OUT019|  528|\n",
      "|           OUT018|  928|\n",
      "|           OUT010|  555|\n",
      "|           OUT045|  929|\n",
      "|           OUT035|  930|\n",
      "|           OUT017|  926|\n",
      "|           OUT049|  930|\n",
      "+-----------------+-----+\n",
      "\n",
      "+-----------+-----+\n",
      "|Outlet_Size|count|\n",
      "+-----------+-----+\n",
      "|       High|  932|\n",
      "|     Medium| 5203|\n",
      "|      Small| 2388|\n",
      "+-----------+-----+\n",
      "+--------------------+-----+\n",
      "|Outlet_Location_Type|count|\n",
      "+--------------------+-----+\n",
      "|              Tier 2| 2785|\n",
      "|              Tier 3| 3350|\n",
      "|              Tier 1| 2388|\n",
      "+--------------------+-----+\n",
      "+-----------------+-----+\n",
      "|      Outlet_Type|count|\n",
      "+-----------------+-----+\n",
      "|Supermarket Type3|  935|\n",
      "|    Grocery Store| 1083|\n",
      "|Supermarket Type2|  928|\n",
      "|Supermarket Type1| 5577|\n",
      "+-----------------+-----+\n"
     ]
    }
   ],
   "source": [
    "# Get the column names and their data types\n",
    "column_data_types = train_df.dtypes\n",
    "\n",
    "# Separate numeric and categorical columns\n",
    "num_columns = [column for column, dtype in column_data_types if dtype in ['int', 'double']]\n",
    "cat_columns = [column for column, dtype in column_data_types if dtype == 'string']\n",
    "\n",
    "# Create dataframes for numeric and categorical columns\n",
    "BM_num = train_df.select(num_columns)\n",
    "BM_cat = train_df.select(cat_columns)\n",
    "\n",
    "# Print the column names\n",
    "print(num_columns)\n",
    "print(cat_columns)\n",
    "\n",
    "# Print the value counts for each categorical column\n",
    "for column in cat_columns[1:]:\n",
    "    train_df.groupBy(column).count().show()"
   ],
   "metadata": {
    "collapsed": false,
    "ExecuteTime": {
     "end_time": "2023-11-11T03:54:28.880142Z",
     "start_time": "2023-11-11T03:54:28.333371Z"
    }
   },
   "id": "d4890b86e2c834bc"
  },
  {
   "cell_type": "markdown",
   "source": [],
   "metadata": {
    "collapsed": false
   },
   "id": "124e0658d2e78e81"
  },
  {
   "cell_type": "code",
   "execution_count": 14,
   "outputs": [
    {
     "name": "stdout",
     "output_type": "stream",
     "text": [
      "+----------------+-----+\n",
      "|Item_Fat_Content|count|\n",
      "+----------------+-----+\n",
      "|         Low Fat| 5517|\n",
      "|         Regular| 3006|\n",
      "+----------------+-----+\n"
     ]
    }
   ],
   "source": [
    "from pyspark.sql.functions import when, col\n",
    "\n",
    "# Đổi tên giá trị 'LF', 'low fat' thành 'Low Fat' và 'reg' thành 'Regular'\n",
    "train_df = train_df.withColumn('Item_Fat_Content',\n",
    "                               when(col('Item_Fat_Content') == 'LF', 'Low Fat')\n",
    "                               .when(col('Item_Fat_Content') == 'low fat', 'Low Fat')\n",
    "                               .when(col('Item_Fat_Content') == 'reg', 'Regular')\n",
    "                               .otherwise(col('Item_Fat_Content')))\n",
    "\n",
    "test_df = test_df.withColumn('Item_Fat_Content',\n",
    "                             when(col('Item_Fat_Content') == 'LF', 'Low Fat')\n",
    "                             .when(col('Item_Fat_Content') == 'low fat', 'Low Fat')\n",
    "                             .when(col('Item_Fat_Content') == 'reg', 'Regular')\n",
    "                             .otherwise(col('Item_Fat_Content')))\n",
    "\n",
    "# Kiểm tra lại giá trị của 'Item_Fat_Content'\n",
    "train_df.groupBy('Item_Fat_Content').count().show()"
   ],
   "metadata": {
    "collapsed": false,
    "ExecuteTime": {
     "end_time": "2023-11-11T03:54:28.990419Z",
     "start_time": "2023-11-11T03:54:28.877797Z"
    }
   },
   "id": "1bc3f7c11957caeb"
  },
  {
   "cell_type": "code",
   "execution_count": 15,
   "outputs": [
    {
     "name": "stdout",
     "output_type": "stream",
     "text": [
      "+----------+\n",
      "|Outlet_Age|\n",
      "+----------+\n",
      "|        24|\n",
      "|        14|\n",
      "|        24|\n",
      "|        25|\n",
      "|        36|\n",
      "|        14|\n",
      "|        36|\n",
      "|        38|\n",
      "|        21|\n",
      "|        16|\n",
      "|        24|\n",
      "|        26|\n",
      "|        24|\n",
      "|        26|\n",
      "|        36|\n",
      "|        26|\n",
      "|        14|\n",
      "|        24|\n",
      "|        38|\n",
      "|        19|\n",
      "+----------+\n",
      "only showing top 20 rows\n",
      "\n",
      "+----------+\n",
      "|Outlet_Age|\n",
      "+----------+\n",
      "|        24|\n",
      "|        16|\n",
      "|        25|\n",
      "|        16|\n",
      "|        38|\n",
      "|        26|\n",
      "|        14|\n",
      "|        38|\n",
      "|        21|\n",
      "|        16|\n",
      "|        16|\n",
      "|        21|\n",
      "|        38|\n",
      "|        24|\n",
      "|        36|\n",
      "|        24|\n",
      "|        21|\n",
      "|        14|\n",
      "|        38|\n",
      "|        25|\n",
      "+----------+\n"
     ]
    }
   ],
   "source": [
    "from pyspark.sql.functions import lit\n",
    "from datetime import date\n",
    "\n",
    "# Tạo cột 'Outlet_Age' với giá trị là hiện tại trừ đi năm thành lập cửa hàng\n",
    "train_df = train_df.withColumn('Outlet_Age', lit(date.today().year) - col('Outlet_Establishment_Year'))\n",
    "\n",
    "test_df = test_df.withColumn('Outlet_Age', lit(date.today().year) - col('Outlet_Establishment_Year'))\n",
    "\n",
    "# Kiểm tra lại giá trị của 'Outlet_Age'\n",
    "train_df.select('Outlet_Age').show()\n",
    "test_df.select('Outlet_Age').show()"
   ],
   "metadata": {
    "collapsed": false,
    "ExecuteTime": {
     "end_time": "2023-11-11T03:54:29.108815Z",
     "start_time": "2023-11-11T03:54:28.986771Z"
    }
   },
   "id": "44f01b9b3346f954"
  },
  {
   "cell_type": "code",
   "execution_count": 16,
   "outputs": [
    {
     "name": "stdout",
     "output_type": "stream",
     "text": [
      "Item_Identifier: 1559\n",
      "Item_Fat_Content: 5\n",
      "Item_Type: 16\n",
      "Outlet_Identifier: 10\n",
      "Outlet_Size: 3\n",
      "Outlet_Location_Type: 3\n",
      "Outlet_Type: 4\n"
     ]
    }
   ],
   "source": [
    "from pyspark.sql.functions import countDistinct\n",
    "\n",
    "# Tính số lượng giá trị duy nhất của từng cột\n",
    "unique_values = {column: BM_cat.select(countDistinct(column)).first()[0] for column in BM_cat.columns}\n",
    "\n",
    "# In ra số lượng giá trị duy nhất của từng cột\n",
    "for column, unique_count in unique_values.items():\n",
    "    print(f\"{column}: {unique_count}\")"
   ],
   "metadata": {
    "collapsed": false,
    "ExecuteTime": {
     "end_time": "2023-11-11T03:54:29.923163Z",
     "start_time": "2023-11-11T03:54:29.092256Z"
    }
   },
   "id": "be6055fc2d0b9d81"
  },
  {
   "cell_type": "code",
   "execution_count": 17,
   "outputs": [
    {
     "name": "stdout",
     "output_type": "stream",
     "text": [
      "+---------------+------------------+----------------+---------------+--------------------+--------+-----------------+-------------------------+-----------+--------------------+-----------------+-----------------+----------+----------------------+-----------------+--------------------------+\n",
      "|Item_Identifier|       Item_Weight|Item_Fat_Content|Item_Visibility|           Item_Type|Item_MRP|Outlet_Identifier|Outlet_Establishment_Year|Outlet_Size|Outlet_Location_Type|      Outlet_Type|Item_Outlet_Sales|Outlet_Age|Item_Fat_Content_index|Outlet_Size_index|Outlet_Location_Type_index|\n",
      "+---------------+------------------+----------------+---------------+--------------------+--------+-----------------+-------------------------+-----------+--------------------+-----------------+-----------------+----------+----------------------+-----------------+--------------------------+\n",
      "|          FDA15|               9.3|         Low Fat|    0.016047301|               Dairy|249.8092|           OUT049|                     1999|     Medium|              Tier 1|Supermarket Type1|         3735.138|        24|                   0.0|              0.0|                       2.0|\n",
      "|          DRC01|              5.92|         Regular|    0.019278216|         Soft Drinks| 48.2692|           OUT018|                     2009|     Medium|              Tier 3|Supermarket Type2|         443.4228|        14|                   1.0|              0.0|                       0.0|\n",
      "|          FDN15|              17.5|         Low Fat|    0.016760075|                Meat| 141.618|           OUT049|                     1999|     Medium|              Tier 1|Supermarket Type1|          2097.27|        24|                   0.0|              0.0|                       2.0|\n",
      "|          FDX07|              19.2|         Regular|            0.0|Fruits and Vegeta...| 182.095|           OUT010|                     1998|     Medium|              Tier 3|    Grocery Store|           732.38|        25|                   1.0|              0.0|                       0.0|\n",
      "|          NCD19|              8.93|         Low Fat|            0.0|           Household| 53.8614|           OUT013|                     1987|       High|              Tier 3|Supermarket Type1|         994.7052|        36|                   0.0|              2.0|                       0.0|\n",
      "|          FDP36|            10.395|         Regular|            0.0|        Baking Goods| 51.4008|           OUT018|                     2009|     Medium|              Tier 3|Supermarket Type2|         556.6088|        14|                   1.0|              0.0|                       0.0|\n",
      "|          FDO10|             13.65|         Regular|    0.012741089|         Snack Foods| 57.6588|           OUT013|                     1987|       High|              Tier 3|Supermarket Type1|         343.5528|        36|                   1.0|              2.0|                       0.0|\n",
      "|          FDP10|12.857645184136183|         Low Fat|    0.127469857|         Snack Foods|107.7622|           OUT027|                     1985|     Medium|              Tier 3|Supermarket Type3|        4022.7636|        38|                   0.0|              0.0|                       0.0|\n",
      "|          FDH17|              16.2|         Regular|    0.016687114|        Frozen Foods| 96.9726|           OUT045|                     2002|     Medium|              Tier 2|Supermarket Type1|        1076.5986|        21|                   1.0|              0.0|                       1.0|\n",
      "|          FDU28|              19.2|         Regular|     0.09444959|        Frozen Foods|187.8214|           OUT017|                     2007|     Medium|              Tier 2|Supermarket Type1|         4710.535|        16|                   1.0|              0.0|                       1.0|\n",
      "|          FDY07|              11.8|         Low Fat|            0.0|Fruits and Vegeta...| 45.5402|           OUT049|                     1999|     Medium|              Tier 1|Supermarket Type1|        1516.0266|        24|                   0.0|              0.0|                       2.0|\n",
      "|          FDA03|              18.5|         Regular|    0.045463773|               Dairy|144.1102|           OUT046|                     1997|      Small|              Tier 1|Supermarket Type1|         2187.153|        26|                   1.0|              1.0|                       2.0|\n",
      "|          FDX32|              15.1|         Regular|      0.1000135|Fruits and Vegeta...|145.4786|           OUT049|                     1999|     Medium|              Tier 1|Supermarket Type1|        1589.2646|        24|                   1.0|              0.0|                       2.0|\n",
      "|          FDS46|              17.6|         Regular|    0.047257328|         Snack Foods|119.6782|           OUT046|                     1997|      Small|              Tier 1|Supermarket Type1|        2145.2076|        26|                   1.0|              1.0|                       2.0|\n",
      "|          FDF32|             16.35|         Low Fat|      0.0680243|Fruits and Vegeta...|196.4426|           OUT013|                     1987|       High|              Tier 3|Supermarket Type1|         1977.426|        36|                   0.0|              2.0|                       0.0|\n",
      "|          FDP49|               9.0|         Regular|    0.069088961|           Breakfast| 56.3614|           OUT046|                     1997|      Small|              Tier 1|Supermarket Type1|        1547.3192|        26|                   1.0|              1.0|                       2.0|\n",
      "|          NCB42|              11.8|         Low Fat|    0.008596051|  Health and Hygiene|115.3492|           OUT018|                     2009|     Medium|              Tier 3|Supermarket Type2|        1621.8888|        14|                   0.0|              0.0|                       0.0|\n",
      "|          FDP49|               9.0|         Regular|    0.069196376|           Breakfast| 54.3614|           OUT049|                     1999|     Medium|              Tier 1|Supermarket Type1|         718.3982|        24|                   1.0|              0.0|                       2.0|\n",
      "|          DRI11|12.857645184136183|         Low Fat|    0.034237682|         Hard Drinks|113.2834|           OUT027|                     1985|     Medium|              Tier 3|Supermarket Type3|         2303.668|        38|                   0.0|              0.0|                       0.0|\n",
      "|          FDU02|             13.35|         Low Fat|     0.10249212|               Dairy|230.5352|           OUT035|                     2004|      Small|              Tier 2|Supermarket Type1|        2748.4224|        19|                   0.0|              1.0|                       1.0|\n",
      "+---------------+------------------+----------------+---------------+--------------------+--------+-----------------+-------------------------+-----------+--------------------+-----------------+-----------------+----------+----------------------+-----------------+--------------------------+\n"
     ]
    }
   ],
   "source": [
    "from pyspark.ml.feature import StringIndexer\n",
    "\n",
    "# Liệt kê các cột cần được mã hóa (do có giá trị là string, chuỗi)\n",
    "columns_to_encode = ['Item_Fat_Content', 'Outlet_Size', 'Outlet_Location_Type']\n",
    "\n",
    "# Áp dụng StringIndexer (biến đổi chuỗi thành số) cho từng cột trong list\n",
    "for column in columns_to_encode:\n",
    "    indexer = StringIndexer(inputCol=column, outputCol=column + \"_index\")\n",
    "    train_df = indexer.fit(train_df).transform(train_df)\n",
    "    test_df = indexer.fit(test_df).transform(test_df)\n",
    "\n",
    "# Hiển thị dữ liệu\n",
    "train_df.show()"
   ],
   "metadata": {
    "collapsed": false,
    "ExecuteTime": {
     "end_time": "2023-11-11T03:54:30.902160Z",
     "start_time": "2023-11-11T03:54:29.919822Z"
    }
   },
   "id": "e00348ea74eecbb5"
  },
  {
   "cell_type": "code",
   "execution_count": 18,
   "outputs": [],
   "source": [
    "from pyspark.ml.feature import OneHotEncoder, StringIndexer\n",
    "\n",
    "# Liệt kê các cột cần được mã hóa (do có giá trị là string, chuỗi)\n",
    "columns_to_encode = ['Item_Type', 'Outlet_Type']\n",
    "\n",
    "# Áp dụng StringIndexer (biến đổi chuỗi thành số) và OneHotEncoder (biến đổi số thành vector) cho từng cột trong danh sách cột cần được mã hóa\n",
    "\n",
    "for column in columns_to_encode:\n",
    "    # StringIndexer\n",
    "    indexer = StringIndexer(inputCol=column, outputCol=column + \"_index\")\n",
    "    train_indexed = indexer.fit(train_df).transform(train_df)\n",
    "    test_indexed = indexer.fit(test_df).transform(test_df)\n",
    "\n",
    "    # OneHotEncoder\n",
    "    encoder = OneHotEncoder(inputCols=[column + \"_index\"], outputCols=[column + \"_vec\"])\n",
    "    train_fe = encoder.fit(train_indexed).transform(train_indexed)\n",
    "    test_fe = encoder.fit(test_indexed).transform(test_indexed)"
   ],
   "metadata": {
    "collapsed": false,
    "ExecuteTime": {
     "end_time": "2023-11-11T03:54:31.297604Z",
     "start_time": "2023-11-11T03:54:30.899710Z"
    }
   },
   "id": "6cf78169753f3439"
  },
  {
   "cell_type": "code",
   "execution_count": 19,
   "outputs": [
    {
     "name": "stdout",
     "output_type": "stream",
     "text": [
      "+------------------+---------------+--------+-----------------+----------+----------------------+-----------------+--------------------------+\n",
      "|       Item_Weight|Item_Visibility|Item_MRP|Item_Outlet_Sales|Outlet_Age|Item_Fat_Content_index|Outlet_Size_index|Outlet_Location_Type_index|\n",
      "+------------------+---------------+--------+-----------------+----------+----------------------+-----------------+--------------------------+\n",
      "|               9.3|    0.016047301|249.8092|         3735.138|        24|                   0.0|              0.0|                       2.0|\n",
      "|              5.92|    0.019278216| 48.2692|         443.4228|        14|                   1.0|              0.0|                       0.0|\n",
      "|              17.5|    0.016760075| 141.618|          2097.27|        24|                   0.0|              0.0|                       2.0|\n",
      "|              19.2|            0.0| 182.095|           732.38|        25|                   1.0|              0.0|                       0.0|\n",
      "|              8.93|            0.0| 53.8614|         994.7052|        36|                   0.0|              2.0|                       0.0|\n",
      "|            10.395|            0.0| 51.4008|         556.6088|        14|                   1.0|              0.0|                       0.0|\n",
      "|             13.65|    0.012741089| 57.6588|         343.5528|        36|                   1.0|              2.0|                       0.0|\n",
      "|12.857645184136183|    0.127469857|107.7622|        4022.7636|        38|                   0.0|              0.0|                       0.0|\n",
      "|              16.2|    0.016687114| 96.9726|        1076.5986|        21|                   1.0|              0.0|                       1.0|\n",
      "|              19.2|     0.09444959|187.8214|         4710.535|        16|                   1.0|              0.0|                       1.0|\n",
      "|              11.8|            0.0| 45.5402|        1516.0266|        24|                   0.0|              0.0|                       2.0|\n",
      "|              18.5|    0.045463773|144.1102|         2187.153|        26|                   1.0|              1.0|                       2.0|\n",
      "|              15.1|      0.1000135|145.4786|        1589.2646|        24|                   1.0|              0.0|                       2.0|\n",
      "|              17.6|    0.047257328|119.6782|        2145.2076|        26|                   1.0|              1.0|                       2.0|\n",
      "|             16.35|      0.0680243|196.4426|         1977.426|        36|                   0.0|              2.0|                       0.0|\n",
      "|               9.0|    0.069088961| 56.3614|        1547.3192|        26|                   1.0|              1.0|                       2.0|\n",
      "|              11.8|    0.008596051|115.3492|        1621.8888|        14|                   0.0|              0.0|                       0.0|\n",
      "|               9.0|    0.069196376| 54.3614|         718.3982|        24|                   1.0|              0.0|                       2.0|\n",
      "|12.857645184136183|    0.034237682|113.2834|         2303.668|        38|                   0.0|              0.0|                       0.0|\n",
      "|             13.35|     0.10249212|230.5352|        2748.4224|        19|                   0.0|              1.0|                       1.0|\n",
      "+------------------+---------------+--------+-----------------+----------+----------------------+-----------------+--------------------------+\n"
     ]
    }
   ],
   "source": [
    "# Danh sách các cột sẽ bị xóa\n",
    "columns_to_drop = ['Item_Identifier', 'Outlet_Identifier', 'Outlet_Establishment_Year', 'Outlet_Type', 'Item_Type',\n",
    "                   'Item_Fat_Content', 'Outlet_Size', 'Outlet_Location_Type']\n",
    "\n",
    "# Xoá các cột trong danh sách ở trên\n",
    "train_fe = train_df.drop(*columns_to_drop)\n",
    "\n",
    "test_fe = test_df.drop(*columns_to_drop)\n",
    "\n",
    "train_fe.show()"
   ],
   "metadata": {
    "collapsed": false,
    "ExecuteTime": {
     "end_time": "2023-11-11T03:54:31.365976Z",
     "start_time": "2023-11-11T03:54:31.297976Z"
    }
   },
   "id": "ffdf428dd1179756"
  },
  {
   "cell_type": "code",
   "execution_count": 20,
   "outputs": [],
   "source": [
    "from pyspark.ml.feature import VectorAssembler\n",
    "\n",
    "# Danh sách các cột đầu vào\n",
    "input_columns = [column for column in train_fe.columns if column != 'Item_Outlet_Sales']\n",
    "\n",
    "# Khỏw tạo đối tượng VectorAssembler (tạo vector đầu vào)\n",
    "assembler = VectorAssembler(inputCols=input_columns, outputCol='features')\n",
    "\n",
    "# Áp dụng VectorAssembler cho tập train và test\n",
    "train_data = assembler.transform(train_fe)\n",
    "test_data = assembler.transform(test_fe)\n",
    "\n",
    "# Now 'features' column is added to the dataframes"
   ],
   "metadata": {
    "collapsed": false,
    "ExecuteTime": {
     "end_time": "2023-11-11T03:54:31.451076Z",
     "start_time": "2023-11-11T03:54:31.361381Z"
    }
   },
   "id": "3ef8f869974ec0d6"
  },
  {
   "cell_type": "code",
   "execution_count": 21,
   "outputs": [],
   "source": [
    "# Chia tập dữ liệu thành tập train và test\n",
    "X_train, X_test = train_data.randomSplit([0.8, 0.2], seed=0)"
   ],
   "metadata": {
    "collapsed": false,
    "ExecuteTime": {
     "end_time": "2023-11-11T03:54:31.451601Z",
     "start_time": "2023-11-11T03:54:31.397837Z"
    }
   },
   "id": "e169a68f2e589ae"
  },
  {
   "cell_type": "code",
   "execution_count": 22,
   "outputs": [],
   "source": [
    "from pyspark.ml.evaluation import RegressionEvaluator\n",
    "from pyspark.ml.tuning import CrossValidator, ParamGridBuilder\n",
    "def cross_val(model_name, model, X, y, num_folds):\n",
    "    \"\"\"\n",
    "    :param model_name: Tên của mô hình \n",
    "    :param model: Mô hình\n",
    "    :param X: Tập dữ liệu đầu vào\n",
    "    :param y: Tên cột chứa giá trị mục tiêu\n",
    "    :param num_folds: Số lượng folds (folds: tập con)\n",
    "    :return: \n",
    "    \"\"\"\n",
    "    \n",
    "    # tạo lưới tham số (lưới tham số: tập các tham số mà mô hình sẽ thử)\n",
    "    paramGrid = ParamGridBuilder().build()\n",
    "\n",
    "    # Khởi tạo đối tượng RegressionEvaluator (đánh giá mô hình hồi quy)\n",
    "    evaluator = RegressionEvaluator(labelCol=y, predictionCol=\"prediction\")\n",
    "\n",
    "    # Khởi tạo đối tượng CrossValidator (xác thực chéo)\n",
    "    crossval = CrossValidator(estimator=model,\n",
    "                              estimatorParamMaps=paramGrid,\n",
    "                              evaluator=evaluator,\n",
    "                              numFolds=num_folds)\n",
    "\n",
    "    # Fit mô hình với tập dữ liệu\n",
    "    cv_model = crossval.fit(X)\n",
    "\n",
    "    # Dự đoán kết quả trên tập dữ liệu\n",
    "    predictions = cv_model.transform(X)\n",
    "\n",
    "    # Tính hệ số xác định (R2)\n",
    "    r2_score = evaluator.evaluate(predictions, {evaluator.metricName: \"r2\"})\n",
    "    print(f\"{model_name} - R2 score: {r2_score:.3f}\")\n",
    "    \n",
    "    # Tính căn bậc hai của sai số bình phương trung bình (RMSE - Root Mean Squared Error)\n",
    "    rmse = evaluator.evaluate(predictions, {evaluator.metricName: \"rmse\"})\n",
    "    print(f\"{model_name} - RMSE: {rmse:.3f}\")\n",
    "    \n",
    "    # Tính sai số bình phương trung bình (MSE - Mean Squared Error)\n",
    "    mse = evaluator.evaluate(predictions, {evaluator.metricName: \"mse\"})\n",
    "    print(f\"{model_name} - MSE: {mse:.3f}\")\n",
    "    \n",
    "    # Tính sai số tuyệt đối trung bình (MAE)\n",
    "    mae = evaluator.evaluate(predictions, {evaluator.metricName: \"mae\"})\n",
    "    print(f\"{model_name} - MAE: {mae:.3f}\")\n",
    "    \n",
    "    "
   ],
   "metadata": {
    "collapsed": false,
    "ExecuteTime": {
     "end_time": "2023-11-11T03:54:31.451933Z",
     "start_time": "2023-11-11T03:54:31.410361Z"
    }
   },
   "id": "9d0215cfb9bc380f"
  },
  {
   "cell_type": "code",
   "execution_count": 23,
   "outputs": [
    {
     "name": "stderr",
     "output_type": "stream",
     "text": [
      "23/11/11 10:54:31 WARN Instrumentation: [a62c2a71] regParam is zero, which might cause numerical instability and overfitting.\n",
      "23/11/11 10:54:31 WARN InstanceBuilder: Failed to load implementation from:dev.ludovic.netlib.blas.JNIBLAS\n",
      "23/11/11 10:54:31 WARN InstanceBuilder: Failed to load implementation from:dev.ludovic.netlib.blas.VectorBLAS\n",
      "23/11/11 10:54:31 WARN InstanceBuilder: Failed to load implementation from:dev.ludovic.netlib.lapack.JNILAPACK\n"
     ]
    }
   ],
   "source": [
    "from pyspark.ml.regression import LinearRegression\n",
    "\n",
    "\n",
    "# Khởi tạo đối tượng LinearRegression (hồi quy tuyến tính)\n",
    "lr = LinearRegression(featuresCol='features', labelCol='Item_Outlet_Sales')\n",
    "\n",
    "# Huấn luyện mô hình với tập train\n",
    "lr_model = lr.fit(X_train)  # Use the complete training data with features and target variable\n",
    "\n",
    "# Dự đoán kết quả trên tập test\n",
    "predictions = lr_model.transform(X_test)\n"
   ],
   "metadata": {
    "collapsed": false,
    "ExecuteTime": {
     "end_time": "2023-11-11T03:54:32.089172Z",
     "start_time": "2023-11-11T03:54:31.412707Z"
    }
   },
   "id": "c21fd1c99655b36b"
  },
  {
   "cell_type": "code",
   "execution_count": 24,
   "outputs": [
    {
     "name": "stdout",
     "output_type": "stream",
     "text": [
      "Coefficients: [-3.0748481941624637,-4323.313787355399,15.56516273349169,21.09510706263851,80.34038963135492,-233.64258709995346,-164.18797958431293]\n"
     ]
    }
   ],
   "source": [
    "# In các hệ số\n",
    "coefficients = lr_model.coefficients\n",
    "print(\"Coefficients: \" + str(coefficients))"
   ],
   "metadata": {
    "collapsed": false,
    "ExecuteTime": {
     "end_time": "2023-11-11T03:54:32.096261Z",
     "start_time": "2023-11-11T03:54:32.085603Z"
    }
   },
   "id": "45b6d292c1ae2c5c"
  },
  {
   "cell_type": "code",
   "execution_count": 25,
   "outputs": [
    {
     "name": "stdout",
     "output_type": "stream",
     "text": [
      "Intercept: 16.256254912483193\n"
     ]
    }
   ],
   "source": [
    "# Hệ số chặn\n",
    "intercept = lr_model.intercept\n",
    "print(\"Intercept: %s\" % str(intercept))"
   ],
   "metadata": {
    "collapsed": false,
    "ExecuteTime": {
     "end_time": "2023-11-11T03:54:32.096482Z",
     "start_time": "2023-11-11T03:54:32.093410Z"
    }
   },
   "id": "a10c1d1c149aa172"
  },
  {
   "cell_type": "code",
   "execution_count": 26,
   "outputs": [
    {
     "name": "stderr",
     "output_type": "stream",
     "text": [
      "23/11/11 10:54:32 WARN Instrumentation: [0475d129] regParam is zero, which might cause numerical instability and overfitting.\n",
      "23/11/11 10:54:33 WARN Instrumentation: [20a24841] regParam is zero, which might cause numerical instability and overfitting.\n",
      "23/11/11 10:54:33 WARN Instrumentation: [51e88504] regParam is zero, which might cause numerical instability and overfitting.\n",
      "23/11/11 10:54:33 WARN Instrumentation: [d2e7bd87] regParam is zero, which might cause numerical instability and overfitting.\n"
     ]
    },
    {
     "name": "stdout",
     "output_type": "stream",
     "text": [
      "Linear Regression - R2 score: 0.355\n",
      "Linear Regression - RMSE: 1369.939\n",
      "Linear Regression - MSE: 1876731.663\n",
      "Linear Regression - MAE: 1017.505\n"
     ]
    }
   ],
   "source": [
    "# Kiểm tra chép\n",
    "cross_val('Linear Regression', lr, train_data, 'Item_Outlet_Sales', 3)"
   ],
   "metadata": {
    "collapsed": false,
    "ExecuteTime": {
     "end_time": "2023-11-11T03:54:34.148934Z",
     "start_time": "2023-11-11T03:54:32.096376Z"
    }
   },
   "id": "fbb19a4100c5c575"
  },
  {
   "cell_type": "code",
   "execution_count": 27,
   "outputs": [
    {
     "name": "stdout",
     "output_type": "stream",
     "text": [
      "+-----------------+------------------+-------------------+\n",
      "|Item_Outlet_Sales|        prediction|          residuals|\n",
      "+-----------------+------------------+-------------------+\n",
      "|        1670.4922| 1364.971889055528| 305.52031094447193|\n",
      "|         1927.491|1357.6735791471706|  569.8174208528294|\n",
      "|        2048.6666|1794.0348828671165| 254.63171713288352|\n",
      "|         361.5294|1618.4819392455342|-1256.9525392455344|\n",
      "|        2253.0672| 2290.250717838041|  -37.1835178380411|\n",
      "|        1995.4026| 505.3286416408073| 1490.0739583591926|\n",
      "|          539.298| 627.5258896620741| -88.22788966207406|\n",
      "|         2956.152|2544.2883363543756| 411.86366364562446|\n",
      "|        2059.9852|2158.8175134138073| -98.83231341380724|\n",
      "|        4781.7756|3619.5951916148965| 1162.1804083851034|\n",
      "|        3231.1274|2004.0505271777552| 1227.0768728222447|\n",
      "|         561.9352|2031.8796157482388| -1469.944415748239|\n",
      "|         3588.662|2859.7844501407367|  728.8775498592631|\n",
      "|         2609.936|2636.1476353566536| -26.21163535665346|\n",
      "|        2352.9372|1995.6566404959644|  357.2805595040354|\n",
      "|        5944.2624| 3666.976343138121| 2277.2860568618785|\n",
      "|          852.224| 1136.046105535388|  -283.822105535388|\n",
      "|         211.7244| 2056.390218612379| -1844.665818612379|\n",
      "|          70.5748| 832.4089787933107| -761.8341787933107|\n",
      "|        2332.9632| 1741.193337622714|  591.7698623772862|\n",
      "+-----------------+------------------+-------------------+\n"
     ]
    }
   ],
   "source": [
    "# Thêm côt 'residuals' (sai số) cho tập dữ liệu\n",
    "predictions = predictions.withColumn('residuals', col('Item_Outlet_Sales') - col('prediction'))\n",
    "\n",
    "actual_pred_df = predictions.select(['Item_Outlet_Sales', 'prediction', 'residuals'])\n",
    "\n",
    "actual_pred_df.show()\n",
    "\n",
    "actual_pred_df.write.csv('predictions.csv', header=True, mode='overwrite')"
   ],
   "metadata": {
    "collapsed": false,
    "ExecuteTime": {
     "end_time": "2023-11-11T03:54:34.540641Z",
     "start_time": "2023-11-11T03:54:34.145873Z"
    }
   },
   "id": "5ab09729d6bb3eac"
  }
 ],
 "metadata": {
  "kernelspec": {
   "display_name": "Python 3",
   "language": "python",
   "name": "python3"
  },
  "language_info": {
   "codemirror_mode": {
    "name": "ipython",
    "version": 2
   },
   "file_extension": ".py",
   "mimetype": "text/x-python",
   "name": "python",
   "nbconvert_exporter": "python",
   "pygments_lexer": "ipython2",
   "version": "2.7.6"
  }
 },
 "nbformat": 4,
 "nbformat_minor": 5
}
